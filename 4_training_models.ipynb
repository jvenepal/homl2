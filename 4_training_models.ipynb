{
 "cells": [
  {
   "cell_type": "markdown",
   "metadata": {},
   "source": [
    "# Training Models"
   ]
  },
  {
   "cell_type": "code",
   "execution_count": 1,
   "metadata": {},
   "outputs": [],
   "source": [
    "import numpy as np\n",
    "import pandas as pd\n",
    "import matplotlib.pyplot as plt\n",
    "import seaborn as sns\n",
    "sns.set()\n",
    "\n",
    "%matplotlib widget"
   ]
  },
  {
   "cell_type": "markdown",
   "metadata": {},
   "source": [
    "## Polynomial regression"
   ]
  },
  {
   "cell_type": "code",
   "execution_count": 2,
   "metadata": {},
   "outputs": [],
   "source": [
    "np.random.seed(42)\n",
    "\n",
    "m = 100 # number of observations\n",
    "X = 6 * np.random.rand(100, 1) - 3\n",
    "y = 0.5 * X**2 + X + 2 + np.random.randn(100, 1)"
   ]
  },
  {
   "cell_type": "markdown",
   "metadata": {},
   "source": [
    "#### Figure 4.13"
   ]
  },
  {
   "cell_type": "code",
   "execution_count": 3,
   "metadata": {},
   "outputs": [
    {
     "data": {
      "application/vnd.jupyter.widget-view+json": {
       "model_id": "31ef41e739b94ef98b4d8ccd26e6649c",
       "version_major": 2,
       "version_minor": 0
      },
      "text/plain": [
       "Canvas(toolbar=Toolbar(toolitems=[('Home', 'Reset original view', 'home', 'home'), ('Back', 'Back to previous …"
      ]
     },
     "metadata": {},
     "output_type": "display_data"
    }
   ],
   "source": [
    "from sklearn.linear_model import LinearRegression\n",
    "from sklearn.preprocessing import PolynomialFeatures\n",
    "\n",
    "poly2 = PolynomialFeatures(degree=2, include_bias=False)\n",
    "X_poly2 = poly2.fit_transform(X)\n",
    "lm = LinearRegression()\n",
    "lm.fit(X_poly2, y)\n",
    "X_test = np.linspace(-3, 3, 100)\n",
    "X_test_poly2 = poly2.transform(X_test.reshape(-1, 1))\n",
    "y_pred = lm.predict(X_test_poly2)\n",
    "\n",
    "fig, ax = plt.subplots(1,1,figsize=(6,6))\n",
    "ax.plot(X.flatten(), y, 'b.', label='truth')\n",
    "ax.plot(X_test, y_pred, 'r--', label='predictions')\n",
    "ax.set_title('Polynomial (deg=2) regression')\n",
    "ax.set_xlim([-4,4])\n",
    "ax.set_ylim([-1,11])\n",
    "ax.legend();"
   ]
  },
  {
   "cell_type": "markdown",
   "metadata": {},
   "source": [
    "### Learning curves"
   ]
  },
  {
   "cell_type": "markdown",
   "metadata": {},
   "source": [
    "#### Figure 4.14"
   ]
  },
  {
   "cell_type": "code",
   "execution_count": 4,
   "metadata": {},
   "outputs": [
    {
     "data": {
      "application/vnd.jupyter.widget-view+json": {
       "model_id": "790cbd29d0b648a790365e33dd13ecbc",
       "version_major": 2,
       "version_minor": 0
      },
      "text/plain": [
       "Canvas(toolbar=Toolbar(toolitems=[('Home', 'Reset original view', 'home', 'home'), ('Back', 'Back to previous …"
      ]
     },
     "metadata": {},
     "output_type": "display_data"
    }
   ],
   "source": [
    "degrees = [1, 2, 30]\n",
    "formats = ['r-+', 'b--', 'g-']\n",
    "\n",
    "def poly_regr(X, y, degrees):\n",
    "    for i, d in enumerate(degrees):\n",
    "        poly = PolynomialFeatures(degree=d, include_bias=False)\n",
    "        X_poly = poly.fit_transform(X)\n",
    "        lm = LinearRegression()\n",
    "        lm.fit(X_poly, y)\n",
    "        X_test = np.linspace(X.flatten().min(),X.flatten().max(),  100)\n",
    "        X_test_poly = poly.transform(X_test.reshape(-1, 1))\n",
    "        y_pred = lm.predict(X_test_poly)\n",
    "        ax.plot(X_test, y_pred, formats[i], label='deg= ' + str(d))\n",
    "\n",
    "fig, ax = plt.subplots(1,1,figsize=(6,6))\n",
    "ax.plot(X.flatten(), y, 'b.', label='truth')\n",
    "poly_regr(X, y, degrees)\n",
    "ax.set_title('Polynomial regression')\n",
    "ax.set_xlim([-4,4])\n",
    "ax.set_ylim([-1,11])\n",
    "ax.legend();"
   ]
  },
  {
   "cell_type": "code",
   "execution_count": 5,
   "metadata": {},
   "outputs": [
    {
     "data": {
      "application/vnd.jupyter.widget-view+json": {
       "model_id": "ea3d02d49cc94f319fff8b8c921d1beb",
       "version_major": 2,
       "version_minor": 0
      },
      "text/plain": [
       "Canvas(toolbar=Toolbar(toolitems=[('Home', 'Reset original view', 'home', 'home'), ('Back', 'Back to previous …"
      ]
     },
     "metadata": {},
     "output_type": "display_data"
    }
   ],
   "source": [
    "from sklearn.metrics import mean_squared_error\n",
    "from sklearn.model_selection import train_test_split\n",
    "\n",
    "def plot_learning_curves(model, X, y):\n",
    "    \"\"\"Plots learning curves by using different sized subsets of the training set.\"\"\"\n",
    "    X_train, X_val, y_train, y_val = train_test_split(X, y, test_size=0.2)\n",
    "    train_rmse, valid_rmse = [], []\n",
    "    for i in range(1, len(X_train[:, 0])):\n",
    "        model.fit(X_train[:i], y[:i]) # choose first i observations\n",
    "        y_train_pred = model.predict(X_train[:i])\n",
    "        y_val_pred = model.predict(X_val)\n",
    "        train_rmse.append(np.sqrt(mean_squared_error(y_train[:i], y_train_pred)))\n",
    "        valid_rmse.append(np.sqrt(mean_squared_error(y_val, y_val_pred)))\n",
    "    plt.figure()\n",
    "    plt.plot(train_rmse, 'r-+', label='train')\n",
    "    plt.plot(valid_rmse, 'b-.', label='val')\n",
    "    plt.xlabel('Training set size')\n",
    "    plt.ylabel('RMSE')\n",
    "    plt.title('Learning curve')\n",
    "    plt.ylim([0, 5])\n",
    "    plt.legend();\n",
    "\n",
    "plot_learning_curves(LinearRegression(), X, y)"
   ]
  },
  {
   "cell_type": "code",
   "execution_count": 6,
   "metadata": {},
   "outputs": [
    {
     "data": {
      "application/vnd.jupyter.widget-view+json": {
       "model_id": "be648ea72d6c49879133f43ef17d845b",
       "version_major": 2,
       "version_minor": 0
      },
      "text/plain": [
       "Canvas(toolbar=Toolbar(toolitems=[('Home', 'Reset original view', 'home', 'home'), ('Back', 'Back to previous …"
      ]
     },
     "metadata": {},
     "output_type": "display_data"
    }
   ],
   "source": [
    "from sklearn.pipeline import Pipeline\n",
    "poly_reg = Pipeline([\n",
    "    ('poly_features', PolynomialFeatures(degree=10, include_bias=False)),\n",
    "    ('lin_reg', LinearRegression()),\n",
    "])\n",
    "plot_learning_curves(poly_reg, X, y)"
   ]
  }
 ],
 "metadata": {
  "kernelspec": {
   "display_name": "Python 3",
   "language": "python",
   "name": "python3"
  },
  "language_info": {
   "codemirror_mode": {
    "name": "ipython",
    "version": 3
   },
   "file_extension": ".py",
   "mimetype": "text/x-python",
   "name": "python",
   "nbconvert_exporter": "python",
   "pygments_lexer": "ipython3",
   "version": "3.7.9"
  }
 },
 "nbformat": 4,
 "nbformat_minor": 4
}
